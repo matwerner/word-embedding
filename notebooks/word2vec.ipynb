{
 "cells": [
  {
   "cell_type": "markdown",
   "metadata": {},
   "source": [
    "# !!UNDER CONSTRUCTION!!\n",
    "## Ok, dude. Chill."
   ]
  },
  {
   "cell_type": "markdown",
   "metadata": {},
   "source": [
    "Implementation of word2vec (skip-gram).\n",
    "\n",
    "Tutorial: http://mccormickml.com/2016/04/19/word2vec-tutorial-the-skip-gram-model/"
   ]
  },
  {
   "cell_type": "markdown",
   "metadata": {},
   "source": [
    "# Load Libraries"
   ]
  },
  {
   "cell_type": "code",
   "execution_count": 1,
   "metadata": {
    "collapsed": true
   },
   "outputs": [],
   "source": [
    "import numpy as np\n",
    "import _pickle as cPickle\n",
    "import theano\n",
    "import theano.tensor as T"
   ]
  },
  {
   "cell_type": "markdown",
   "metadata": {},
   "source": [
    "# Declare varibles"
   ]
  },
  {
   "cell_type": "code",
   "execution_count": 2,
   "metadata": {
    "collapsed": true
   },
   "outputs": [],
   "source": [
    "data_path = '../datasets/ptwiki-20170820-sentences.pickle'"
   ]
  },
  {
   "cell_type": "markdown",
   "metadata": {},
   "source": [
    "# word2vec"
   ]
  },
  {
   "cell_type": "markdown",
   "metadata": {},
   "source": [
    "## Hyperparameters"
   ]
  },
  {
   "cell_type": "code",
   "execution_count": 3,
   "metadata": {
    "collapsed": true
   },
   "outputs": [],
   "source": [
    "CONTEXT_SIZE = 10\n",
    "LEARNING_RATE = 0.01\n",
    "NEGATIVE_SAMPLE_SIZE = 20\n",
    "EMBEDDING_SIZE = 300\n",
    "BATCH_SIZE = 50"
   ]
  },
  {
   "cell_type": "markdown",
   "metadata": {},
   "source": [
    "## Auxiliar class"
   ]
  },
  {
   "cell_type": "markdown",
   "metadata": {},
   "source": [
    "Corpus dataset must be preprocessed by preprocessing.ipynb before being load"
   ]
  },
  {
   "cell_type": "code",
   "execution_count": 4,
   "metadata": {
    "collapsed": true
   },
   "outputs": [],
   "source": [
    "class Corpus(object):\n",
    "    \n",
    "    def __init__(self, corpus_path):\n",
    "        with open(corpus_path, 'rb') as fp:\n",
    "            self._indices = cPickle.load(fp) \n",
    "            self._indice_freq = cPickle.load(fp)\n",
    "            self._sentences = cPickle.load(fp)\n",
    "\n",
    "    def sentences_size(self):\n",
    "        return len(self._sentences)\n",
    "            \n",
    "    def tokens_size(self):\n",
    "        return len(self._indices)\n",
    "    \n",
    "    def contexts(self, C=5):\n",
    "        for sentence in range(self._sentences):\n",
    "            for idx, center_word in enumerate(range(sentence)):\n",
    "                # Get previous words\n",
    "                context = sentence[max(0, idx - C):idx]\n",
    "                \n",
    "                # Get future words\n",
    "                if idx + 1 < len(sentence):\n",
    "                    context += sentence[idx+1:min(len(sentence), idx + C + 1)]\n",
    "\n",
    "                # Remove duplicate center word\n",
    "                context = [word for word in context if word is not center_word]\n",
    "\n",
    "                # Return current context\n",
    "                yield center_word, context"
   ]
  },
  {
   "cell_type": "markdown",
   "metadata": {},
   "source": [
    "## Algorithm"
   ]
  },
  {
   "cell_type": "code",
   "execution_count": 5,
   "metadata": {
    "collapsed": true
   },
   "outputs": [],
   "source": [
    "class Word2Vec(object):\n",
    "    \n",
    "        def __init__(self, vector_size, tokens_size):        \n",
    "            self.W_in_values = np.asarray((np.random.rand(tokens_size, vector_size) - 0.5) / vector_size,\n",
    "                                          dtype=theano.config.floatX)\n",
    "\n",
    "            self.W_out_values = np.asarray(np.zeros((tokens_size, vector_size)),\n",
    "                                          dtype=theano.config.floatX)     \n",
    "\n",
    "            self.W_in = theano.shared(\n",
    "                value=self.W_in_values,\n",
    "                name='W_in',\n",
    "                borrow=True\n",
    "            )\n",
    "\n",
    "            self.W_out = theano.shared(\n",
    "                value=self.W_out_values,\n",
    "                name='W_out',\n",
    "                borrow=True\n",
    "            )\n",
    "        \n",
    "        def __train_one_batch(self):\n",
    "            raise NotImplementedError()\n",
    "            \n",
    "        def __train_one_step(self):\n",
    "            raise NotImplementedError()\n",
    "            \n",
    "        def train(self):\n",
    "            raise NotImplementedError()\n",
    "            \n",
    "        def save(self, file_path):\n",
    "            with open(file_path, \"wb\") as fp:\n",
    "                pickle.dump(self.W_in_values.shape, fp)\n",
    "                pickle.dump(self.W_in_values, fp)       \n",
    "                pickle.dump(self.W_out_values, fp)\n",
    "\n",
    "\n",
    "        def load(self, file_path):\n",
    "            with open(file_path, \"rb\") as fp:\n",
    "                _ = pickle.load(fp)\n",
    "                self.W_in_values[:] = pickle.load(fp)\n",
    "                self.W_out_values[:] = pickle.load(fp)"
   ]
  },
  {
   "cell_type": "code",
   "execution_count": null,
   "metadata": {
    "collapsed": true
   },
   "outputs": [],
   "source": []
  }
 ],
 "metadata": {
  "kernelspec": {
   "display_name": "Python 3",
   "language": "python",
   "name": "python3"
  },
  "language_info": {
   "codemirror_mode": {
    "name": "ipython",
    "version": 3
   },
   "file_extension": ".py",
   "mimetype": "text/x-python",
   "name": "python",
   "nbconvert_exporter": "python",
   "pygments_lexer": "ipython3",
   "version": "3.6.2"
  }
 },
 "nbformat": 4,
 "nbformat_minor": 2
}
