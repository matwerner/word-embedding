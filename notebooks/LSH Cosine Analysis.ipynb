{
 "cells": [
  {
   "cell_type": "code",
   "execution_count": 1,
   "metadata": {
    "collapsed": true
   },
   "outputs": [],
   "source": [
    "import numpy as np"
   ]
  },
  {
   "cell_type": "markdown",
   "metadata": {},
   "source": [
    "# Import embeddings matrix"
   ]
  },
  {
   "cell_type": "code",
   "execution_count": null,
   "metadata": {
    "collapsed": true
   },
   "outputs": [],
   "source": [
    "with open(\"{}.npy\",format(file_name), \"r\") as f:\n",
    "    _ = pickle.load(f)\n",
    "    \n",
    "    W_in_values[:] = pickle.load(f)\n",
    "    W_out_values[:] = pickle.load(f)"
   ]
  },
  {
   "cell_type": "markdown",
   "metadata": {},
   "source": [
    "# Filtering words"
   ]
  },
  {
   "cell_type": "code",
   "execution_count": null,
   "metadata": {
    "collapsed": true
   },
   "outputs": [],
   "source": [
    "# Remove stopwords\n",
    "\n"
   ]
  },
  {
   "cell_type": "code",
   "execution_count": null,
   "metadata": {
    "collapsed": true
   },
   "outputs": [],
   "source": [
    "# McCormicks sampling rate\n",
    "\n"
   ]
  },
  {
   "cell_type": "markdown",
   "metadata": {},
   "source": [
    "# Construct Difference vectors"
   ]
  },
  {
   "cell_type": "code",
   "execution_count": null,
   "metadata": {
    "collapsed": true
   },
   "outputs": [],
   "source": [
    "# procedure: given two words, return relationship vector\n",
    "def relationship_vector(string_word1, index_word1, embedding1, string_word2, index_word2, embedding2):\n",
    "    #string_index\n",
    "    relationship_string = string_word1 + \">\" + string_word2\n",
    "    \n",
    "    #relationship list of indexes\n",
    "    relationship_index = tuple(index_word1, index_word2)\n",
    "    \n",
    "    #difference\n",
    "    relationship_array = np.add(embedding1, (-1)*embedding2)\n",
    "    \n",
    "    return relationship_string, relationship_index, relationship_array\n",
    "    "
   ]
  },
  {
   "cell_type": "code",
   "execution_count": null,
   "metadata": {
    "collapsed": true
   },
   "outputs": [],
   "source": [
    "# for each word loop through all words,\n",
    "idx = 0\n",
    "for word_vector1 in word_vectors:\n",
    "    for word_vector2 in word_vectors\n",
    "        relationship_string, relationship_index, relationship_array = relationship_vector(string_word1, index_word1, embedding1, \n",
    "                                                                                           string_word2, index_word2, embedding2)\n",
    "        relationship_strings[idx] = relationship_string\n",
    "        relationship_indexes[idx] = relationship_index\n",
    "        relationship_arrays[idx] = relationship_array"
   ]
  },
  {
   "cell_type": "markdown",
   "metadata": {},
   "source": [
    "# Create random vectors"
   ]
  },
  {
   "cell_type": "code",
   "execution_count": null,
   "metadata": {
    "collapsed": true
   },
   "outputs": [],
   "source": [
    "def gen_rand_vecs(dims, number):\n",
    "    vecs = np.random.normal(size=(number,dims))\n",
    "    mags = np.linalg.norm(vecs, axis=-1)\n",
    "\n",
    "    return vecs / mags[..., np.newaxis]\n",
    "\n",
    "random_column_vectors = np.transpose(gen_rand_vecs(<EMBEDDINDS_SIZE>, 1000))\n"
   ]
  },
  {
   "cell_type": "markdown",
   "metadata": {},
   "source": [
    "# Construct signature matrix"
   ]
  },
  {
   "cell_type": "code",
   "execution_count": null,
   "metadata": {
    "collapsed": true
   },
   "outputs": [],
   "source": [
    "signature_matrix = np.matmul(relationship_matrix, random_column_vectors)\n",
    "signature_matrix[signature_matrix >= 0] = 1\n",
    "signature_matrix[signature_matrix < 0] = 0"
   ]
  },
  {
   "cell_type": "markdown",
   "metadata": {},
   "source": [
    "# Hash bands"
   ]
  },
  {
   "cell_type": "code",
   "execution_count": null,
   "metadata": {
    "collapsed": true
   },
   "outputs": [],
   "source": [
    "# Hashing\n",
    "p = (2**61)-1 # numero primo bem grande #**61  #**31\n",
    "w = 2**32 # tamanho do bucket para o hash #**32  #**16\n",
    "#rb_values = [(10,100),(20,50), (25,40), (40,25),(50,20)]\n",
    "\n",
    "hash_coeff_vec = np.random.randint(1, p, size=(r+1))\n",
    "def vector_universal_hashing(vector):\n",
    "    vector.append(1)\n",
    "    return ((np.dot(hash_coeff_vec,vector)) % p) % w\n",
    "\n",
    "#for rb in rb_values:\n",
    "#    r = rb[0] # quantidade de funcoes hash por faixa (AND)\n",
    "#    b = rb[1] # quantidade de faixas do LSH (OR)\n",
    "r = "
   ]
  },
  {
   "cell_type": "markdown",
   "metadata": {},
   "source": [
    "# Create list of sets of relationships"
   ]
  },
  {
   "cell_type": "code",
   "execution_count": null,
   "metadata": {
    "collapsed": true
   },
   "outputs": [],
   "source": []
  },
  {
   "cell_type": "code",
   "execution_count": null,
   "metadata": {
    "collapsed": true
   },
   "outputs": [],
   "source": []
  },
  {
   "cell_type": "code",
   "execution_count": null,
   "metadata": {
    "collapsed": true
   },
   "outputs": [],
   "source": []
  },
  {
   "cell_type": "code",
   "execution_count": null,
   "metadata": {
    "collapsed": true
   },
   "outputs": [],
   "source": []
  }
 ],
 "metadata": {
  "kernelspec": {
   "display_name": "Python 3",
   "language": "python",
   "name": "python3"
  },
  "language_info": {
   "codemirror_mode": {
    "name": "ipython",
    "version": 3
   },
   "file_extension": ".py",
   "mimetype": "text/x-python",
   "name": "python",
   "nbconvert_exporter": "python",
   "pygments_lexer": "ipython3",
   "version": "3.6.2"
  }
 },
 "nbformat": 4,
 "nbformat_minor": 2
}
