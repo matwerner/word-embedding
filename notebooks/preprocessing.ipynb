{
 "cells": [
  {
   "cell_type": "markdown",
   "metadata": {},
   "source": [
    "Dataset:\n",
    "https://dumps.wikimedia.org/backup-index.html\n",
    "\n",
    "Before Running the parser below, please run WikipediaExtractor script:\n",
    "\n",
    "python2 WikipediaExtractor.py --json --bytes 10G <wikipedia-file-path>\n",
    "\n",
    "Download:\n",
    "https://github.com/attardi/wikiextractor\n",
    "\n",
    "Source:\n",
    "https://www.mediawiki.org/wiki/Alternative_parsers"
   ]
  },
  {
   "cell_type": "markdown",
   "metadata": {},
   "source": [
    "# Load Libraries"
   ]
  },
  {
   "cell_type": "code",
   "execution_count": 1,
   "metadata": {
    "collapsed": true
   },
   "outputs": [],
   "source": [
    "import _pickle as cPickle\n",
    "import io\n",
    "import json\n",
    "import re\n",
    "import string\n",
    "import unidecode"
   ]
  },
  {
   "cell_type": "markdown",
   "metadata": {},
   "source": [
    "# Declare variables"
   ]
  },
  {
   "cell_type": "code",
   "execution_count": 2,
   "metadata": {
    "collapsed": true
   },
   "outputs": [],
   "source": [
    "data_path = '../datasets/ptwiki-20170820-pages-articles-parsed.json'\n",
    "output_path = '../datasets/ptwiki-20170820-sentences.pickle'"
   ]
  },
  {
   "cell_type": "markdown",
   "metadata": {},
   "source": [
    "# Load All Data"
   ]
  },
  {
   "cell_type": "code",
   "execution_count": 3,
   "metadata": {
    "collapsed": true
   },
   "outputs": [],
   "source": [
    "data_reader = io.open(data_path, mode=\"r\", encoding=\"utf-8\")"
   ]
  },
  {
   "cell_type": "markdown",
   "metadata": {},
   "source": [
    "# Parse all articles from JSON"
   ]
  },
  {
   "cell_type": "code",
   "execution_count": 4,
   "metadata": {},
   "outputs": [],
   "source": [
    "# Go to beginning\n",
    "data_reader.seek(0)\n",
    "\n",
    "# Parse all text from json\n",
    "articles = [json.loads(line)['text']\n",
    "            for line in data_reader]\n",
    "\n",
    "data_reader.close()\n",
    "\n",
    "# Temporary - Remove once word embedding algorithms are ready\n",
    "articles = articles[:1000]"
   ]
  },
  {
   "cell_type": "markdown",
   "metadata": {},
   "source": [
    "# Convert corpus to token list"
   ]
  },
  {
   "cell_type": "code",
   "execution_count": 5,
   "metadata": {
    "collapsed": true
   },
   "outputs": [],
   "source": [
    "numbers = '0123456789'\n",
    "punctuation = re.sub('[!?\\.]', '', string.punctuation)\n",
    "translator = str.maketrans('', '', punctuation + numbers) \n",
    "\n",
    "def get_sentences(corpus):\n",
    "    # Remove punctuation and numbers\n",
    "    preprocessed = corpus.translate(translator)\n",
    "    \n",
    "    # All words to Upper case\n",
    "    #preprocessed = preprocessed.upper()\n",
    "    \n",
    "    # Remove accentuation\n",
    "    #preprocessed = unidecode.unidecode(preprocessed)\n",
    "    \n",
    "    # Split text into sentences\n",
    "    sentences = re.split('[!?\\.\\\\n]', preprocessed)\n",
    "    \n",
    "    # Remove spaces from start and end of sentence\n",
    "    sentences = [sentence.strip()\n",
    "                 for sentence in sentences]\n",
    "    \n",
    "    # First caracter of each sentence to lower\n",
    "    # Each sentence must have two or more words\n",
    "    sentences = [sentence[:1].lower() + sentence[1:]\n",
    "                 for sentence in sentences\n",
    "                 if sentence and ' '  in sentence]\n",
    "    \n",
    "    # Split sentence in tokens\n",
    "    sentences = [re.split('\\s+', sentence)\n",
    "                 for sentence in sentences]\n",
    "    \n",
    "    return sentences"
   ]
  },
  {
   "cell_type": "markdown",
   "metadata": {},
   "source": [
    "# Convert corpora to sentences of indexes"
   ]
  },
  {
   "cell_type": "code",
   "execution_count": 6,
   "metadata": {
    "collapsed": true
   },
   "outputs": [],
   "source": [
    "def preprocess_corpora(corpora):    \n",
    "    # All variables\n",
    "    sentences = []\n",
    "    idx = 0\n",
    "    tokens = {}\n",
    "    indices = {}\n",
    "    indice_freq = {}\n",
    "    word_count = 0\n",
    "    \n",
    "    # Preprocess all corpora\n",
    "    for corpus in corpora:\n",
    "        raw_sentences = get_sentences(corpus)\n",
    "        for raw_sentence in raw_sentences:\n",
    "            sentence = []\n",
    "            for word in raw_sentence:                \n",
    "                if word not in tokens:\n",
    "                    tokens[word] = idx\n",
    "                    indices[idx] = word\n",
    "                    indice_freq[idx] = 1\n",
    "                    idx += 1\n",
    "                else:\n",
    "                    indice_freq[tokens[word]] += 1\n",
    "                sentence += [tokens[word]]\n",
    "                word_count += 1\n",
    "            sentences += [sentence]\n",
    "    return sentences, indices, indice_freq, word_count"
   ]
  },
  {
   "cell_type": "markdown",
   "metadata": {},
   "source": [
    "# Run"
   ]
  },
  {
   "cell_type": "code",
   "execution_count": 7,
   "metadata": {
    "collapsed": true
   },
   "outputs": [],
   "source": [
    "sentences, indices, indice_freq, word_count = preprocess_corpora(articles)"
   ]
  },
  {
   "cell_type": "markdown",
   "metadata": {},
   "source": [
    "# Dump all info"
   ]
  },
  {
   "cell_type": "code",
   "execution_count": 8,
   "metadata": {
    "collapsed": true
   },
   "outputs": [],
   "source": [
    "with open(output_path, 'wb') as fp:\n",
    "    cPickle.dump(indices, fp) \n",
    "    cPickle.dump(indice_freq, fp)\n",
    "    cPickle.dump(sentences, fp)"
   ]
  },
  {
   "cell_type": "markdown",
   "metadata": {},
   "source": [
    "# Debugging..."
   ]
  },
  {
   "cell_type": "markdown",
   "metadata": {},
   "source": [
    "## Check length"
   ]
  },
  {
   "cell_type": "code",
   "execution_count": 9,
   "metadata": {},
   "outputs": [
    {
     "name": "stdout",
     "output_type": "stream",
     "text": [
      "98001\n",
      "105405\n",
      "2259375\n"
     ]
    }
   ],
   "source": [
    "print(len(sentences))\n",
    "print(len(indices))\n",
    "print(word_count)"
   ]
  },
  {
   "cell_type": "markdown",
   "metadata": {},
   "source": [
    "## Check conversion"
   ]
  },
  {
   "cell_type": "code",
   "execution_count": 10,
   "metadata": {},
   "outputs": [
    {
     "name": "stdout",
     "output_type": "stream",
     "text": [
      "['astronomia', 'é', 'uma', 'ciência', 'natural', 'que', 'estuda', 'corpos', 'celestes', 'como', 'estrelas', 'planetas', 'cometas', 'nebulosas', 'aglomerados', 'de', 'estrelas', 'galáxias', 'e', 'fenômenos', 'que', 'se', 'originam', 'fora', 'da', 'atmosfera', 'da', 'Terra', 'como', 'a', 'radiação', 'cósmica', 'de', 'fundo', 'em', 'microondas']\n"
     ]
    }
   ],
   "source": [
    "line = [indices[idx]\n",
    "        for idx in sentences[0]]\n",
    "print(line)"
   ]
  },
  {
   "cell_type": "markdown",
   "metadata": {},
   "source": [
    "## Counters"
   ]
  },
  {
   "cell_type": "code",
   "execution_count": 11,
   "metadata": {},
   "outputs": [
    {
     "name": "stdout",
     "output_type": "stream",
     "text": [
      "[('astronomia', 109), ('é', 20278), ('uma', 20443), ('ciência', 805), ('natural', 559), ('que', 39705), ('estuda', 140), ('corpos', 310), ('celestes', 44), ('como', 16334), ('estrelas', 216), ('planetas', 376), ('cometas', 189), ('nebulosas', 12), ('aglomerados', 38), ('de', 125948), ('galáxias', 155), ('e', 72004), ('fenômenos', 225), ('se', 10813), ('originam', 11), ('fora', 494), ('da', 39805), ('atmosfera', 304), ('Terra', 798), ('a', 85477), ('radiação', 183), ('cósmica', 14), ('fundo', 113), ('em', 40505), ('microondas', 19), ('preocupada', 19), ('com', 20357), ('evolução', 444), ('física', 534), ('química', 317), ('o', 64932), ('movimento', 1003), ('objetos', 362), ('bem', 1276), ('formação', 504), ('desenvolvimento', 1212), ('do', 44767), ('universo', 165), ('das', 8556), ('mais', 11441), ('antigas', 203), ('ciências', 354), ('culturas', 239), ('préhistóricas', 5), ('deixaram', 76), ('registrados', 65), ('vários', 1304), ('artefatos', 26), ('astronômicos', 15), ('Stonehenge', 5), ('os', 22714), ('montes', 23), ('Newgrange', 1), ('menires', 5), ('as', 15278), ('primeiras', 428), ('civilizações', 75), ('babilônios', 4), ('gregos', 177), ('chineses', 114), ('indianos', 16), ('iranianos', 7), ('maias', 10), ('realizaram', 28), ('observações', 194), ('metódicas', 1), ('céu', 130), ('noturno', 13), ('no', 18914), ('entanto', 1063), ('invenção', 85), ('telescópio', 70), ('permitiu', 164), ('moderna', 345), ('historicamente', 127), ('incluiu', 55), ('disciplinas', 102), ('tão', 426), ('diversas', 625), ('astrometria', 2), ('navegação', 94), ('astronômica', 10), ('observacional', 8), ('elaboração', 67), ('calendários', 24), ('durante', 2637), ('período', 1581), ('medieval', 102), ('seu', 5518), ('estudo', 739), ('era', 3529), ('obrigatório', 59), ('estava', 664), ('incluído', 45)]\n"
     ]
    }
   ],
   "source": [
    "counter = [(indices[idx],freq)\n",
    "           for idx, freq in indice_freq.items()]\n",
    "print(counter[:100])"
   ]
  }
 ],
 "metadata": {
  "kernelspec": {
   "display_name": "Python 3",
   "language": "python",
   "name": "python3"
  },
  "language_info": {
   "codemirror_mode": {
    "name": "ipython",
    "version": 3
   },
   "file_extension": ".py",
   "mimetype": "text/x-python",
   "name": "python",
   "nbconvert_exporter": "python",
   "pygments_lexer": "ipython3",
   "version": "3.6.1"
  }
 },
 "nbformat": 4,
 "nbformat_minor": 2
}
