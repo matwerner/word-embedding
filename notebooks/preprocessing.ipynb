{
 "cells": [
  {
   "cell_type": "markdown",
   "metadata": {},
   "source": [
    "Dataset:\n",
    "https://dumps.wikimedia.org/backup-index.html\n",
    "\n",
    "Before Running the parser below, please run WikipediaExtractor script:\n",
    "\n",
    "python2 WikipediaExtractor.py --json --bytes 10G <wikipedia-file-path>\n",
    "\n",
    "Download:\n",
    "https://github.com/attardi/wikiextractor\n",
    "\n",
    "Source:\n",
    "https://www.mediawiki.org/wiki/Alternative_parsers"
   ]
  },
  {
   "cell_type": "markdown",
   "metadata": {},
   "source": [
    "# Load Libraries"
   ]
  },
  {
   "cell_type": "code",
   "execution_count": 1,
   "metadata": {
    "collapsed": true
   },
   "outputs": [],
   "source": [
    "from collections import Counter\n",
    "\n",
    "import _pickle as cPickle\n",
    "import io\n",
    "import json\n",
    "import re\n",
    "import string\n",
    "import unidecode"
   ]
  },
  {
   "cell_type": "markdown",
   "metadata": {},
   "source": [
    "# Declare variables"
   ]
  },
  {
   "cell_type": "code",
   "execution_count": 2,
   "metadata": {
    "collapsed": true
   },
   "outputs": [],
   "source": [
    "data_path = '../datasets/ptwiki-20170820-pages-articles-parsed.json'\n",
    "output_path = '../datasets/ptwiki-20170820-sentences-vocab30k.pickle'"
   ]
  },
  {
   "cell_type": "markdown",
   "metadata": {},
   "source": [
    "# Declare hyperparameters"
   ]
  },
  {
   "cell_type": "code",
   "execution_count": 3,
   "metadata": {
    "collapsed": true
   },
   "outputs": [],
   "source": [
    "MAX_WORDS_IN_VOCABULARY = 30000\n",
    "MAX_ARTICLES_SAMPLE = 1000"
   ]
  },
  {
   "cell_type": "markdown",
   "metadata": {},
   "source": [
    "# Load All Data"
   ]
  },
  {
   "cell_type": "code",
   "execution_count": 4,
   "metadata": {
    "collapsed": true
   },
   "outputs": [],
   "source": [
    "data_reader = io.open(data_path, mode=\"r\", encoding=\"utf-8\")"
   ]
  },
  {
   "cell_type": "markdown",
   "metadata": {},
   "source": [
    "# Parse all articles from JSON"
   ]
  },
  {
   "cell_type": "code",
   "execution_count": 5,
   "metadata": {
    "collapsed": true
   },
   "outputs": [],
   "source": [
    "# Go to beginning\n",
    "data_reader.seek(0)\n",
    "\n",
    "# Parse all text from json\n",
    "articles = [json.loads(line)['text']\n",
    "            for line in data_reader]\n",
    "\n",
    "data_reader.close()\n",
    "\n",
    "# Temporary - Remove once word embedding algorithms are ready\n",
    "articles = articles[:MAX_ARTICLES_SAMPLE]"
   ]
  },
  {
   "cell_type": "markdown",
   "metadata": {},
   "source": [
    "# Convert corpus to token list"
   ]
  },
  {
   "cell_type": "code",
   "execution_count": 6,
   "metadata": {
    "collapsed": true
   },
   "outputs": [],
   "source": [
    "numbers = '0123456789'\n",
    "punctuation = re.sub('[!?\\.]', '', string.punctuation)\n",
    "translator = str.maketrans('', '', punctuation + numbers) \n",
    "\n",
    "def get_sentences(corpus):\n",
    "    # Remove punctuation and numbers\n",
    "    preprocessed = corpus.translate(translator)\n",
    "    \n",
    "    # All words to Upper case\n",
    "    #preprocessed = preprocessed.upper()\n",
    "    \n",
    "    # Remove accentuation\n",
    "    #preprocessed = unidecode.unidecode(preprocessed)\n",
    "    \n",
    "    # Split text into sentences\n",
    "    sentences = re.split('[!?\\.\\\\n]', preprocessed)\n",
    "    \n",
    "    # Remove spaces from start and end of sentence\n",
    "    sentences = [sentence.strip()\n",
    "                 for sentence in sentences]\n",
    "    \n",
    "    # First caracter of each sentence to lower\n",
    "    # Each sentence must have two or more words\n",
    "    sentences = [sentence[:1].lower() + sentence[1:]\n",
    "                 for sentence in sentences\n",
    "                 if sentence and ' '  in sentence]\n",
    "    \n",
    "    # Split sentence in tokens\n",
    "    sentences = [re.split('\\s+', sentence)\n",
    "                 for sentence in sentences]\n",
    "    \n",
    "    return sentences"
   ]
  },
  {
   "cell_type": "markdown",
   "metadata": {},
   "source": [
    "# Convert corpora to sentences of indexes"
   ]
  },
  {
   "cell_type": "code",
   "execution_count": 13,
   "metadata": {
    "collapsed": true
   },
   "outputs": [],
   "source": [
    "def preprocess_corpora(corpora, max_tokens=-1):    \n",
    "    # All variables\n",
    "    sentences = []\n",
    "    idx = 0\n",
    "    tokens = {}\n",
    "    indices = {}\n",
    "    indice_freq = Counter()\n",
    "    word_count = 0\n",
    "    \n",
    "    # Preprocess all corpora\n",
    "    for corpus in corpora:\n",
    "        raw_sentences = get_sentences(corpus)\n",
    "        for raw_sentence in raw_sentences:\n",
    "            sentence = []\n",
    "            for word in raw_sentence:                \n",
    "                if word not in tokens:\n",
    "                    tokens[word] = idx\n",
    "                    indices[idx] = word\n",
    "                    indice_freq[idx] = 1\n",
    "                    idx += 1\n",
    "                else:\n",
    "                    indice_freq[tokens[word]] += 1\n",
    "                sentence += [tokens[word]]\n",
    "                word_count += 1\n",
    "            sentences += [sentence]\n",
    "    \n",
    "    # Check if we need to filter the vocabulary\n",
    "    if max_tokens == -1 or len(indices) <= max_tokens:\n",
    "        return sentences, indices, indice_freq, word_count\n",
    "    \n",
    "    # Get most frequent words\n",
    "    indice_freq = Counter(dict(indice_freq.most_common(max_tokens)))\n",
    "    \n",
    "    # Remove all other words from indices\n",
    "    indices = {key:indices[key] for key,_ in indice_freq.items()}\n",
    "    \n",
    "    # Remap indices so they stay contiguous\n",
    "    remap = {key:i for i, key in enumerate(indices.keys())}\n",
    "    \n",
    "    # Apply remmap in all data structures\n",
    "    remapped_indices = {remap[key]:value for key, value in indices.items()}\n",
    "    remapped_indice_freq = Counter({remap[key]:value for key, value in indice_freq.items()})\n",
    "    remapped_sentences = [[remap[key] for key in sentence if key in indices] for sentence in sentences]   \n",
    "    word_count = sum(remapped_indice_freq.values())\n",
    "    \n",
    "    return remapped_sentences, remapped_indices, remapped_indice_freq, word_count"
   ]
  },
  {
   "cell_type": "markdown",
   "metadata": {},
   "source": [
    "# Run"
   ]
  },
  {
   "cell_type": "code",
   "execution_count": 14,
   "metadata": {},
   "outputs": [],
   "source": [
    "sentences, indices, indice_freq, word_count = preprocess_corpora(articles, MAX_WORDS_IN_VOCABULARY)"
   ]
  },
  {
   "cell_type": "markdown",
   "metadata": {},
   "source": [
    "# Dump all info"
   ]
  },
  {
   "cell_type": "code",
   "execution_count": 15,
   "metadata": {
    "collapsed": true
   },
   "outputs": [],
   "source": [
    "with open(output_path, 'wb') as fp:\n",
    "    cPickle.dump(indices, fp) \n",
    "    cPickle.dump(indice_freq, fp)\n",
    "    cPickle.dump(sentences, fp)"
   ]
  },
  {
   "cell_type": "markdown",
   "metadata": {},
   "source": [
    "# Debugging..."
   ]
  },
  {
   "cell_type": "markdown",
   "metadata": {},
   "source": [
    "## Check length"
   ]
  },
  {
   "cell_type": "code",
   "execution_count": 16,
   "metadata": {},
   "outputs": [
    {
     "name": "stdout",
     "output_type": "stream",
     "text": [
      "98001\n",
      "30000\n",
      "2148044\n"
     ]
    }
   ],
   "source": [
    "print(len(sentences))\n",
    "print(len(indices))\n",
    "print(word_count)"
   ]
  },
  {
   "cell_type": "markdown",
   "metadata": {},
   "source": [
    "## Check conversion"
   ]
  },
  {
   "cell_type": "code",
   "execution_count": 17,
   "metadata": {},
   "outputs": [
    {
     "name": "stdout",
     "output_type": "stream",
     "text": [
      "['astronomia', 'é', 'uma', 'ciência', 'natural', 'que', 'estuda', 'corpos', 'celestes', 'como', 'estrelas', 'planetas', 'cometas', 'nebulosas', 'aglomerados', 'de', 'estrelas', 'galáxias', 'e', 'fenômenos', 'que', 'se', 'originam', 'fora', 'da', 'atmosfera', 'da', 'Terra', 'como', 'a', 'radiação', 'cósmica', 'de', 'fundo', 'em', 'microondas']\n"
     ]
    }
   ],
   "source": [
    "line = [indices[idx]\n",
    "        for idx in sentences[0]]\n",
    "print(line)"
   ]
  },
  {
   "cell_type": "markdown",
   "metadata": {},
   "source": [
    "## Counters"
   ]
  },
  {
   "cell_type": "code",
   "execution_count": 18,
   "metadata": {},
   "outputs": [
    {
     "name": "stdout",
     "output_type": "stream",
     "text": [
      "[('de', 125948), ('a', 85477), ('e', 72004), ('o', 64932), ('do', 44767), ('em', 40505), ('da', 39805), ('que', 39705), ('os', 22714), ('um', 21970), ('uma', 20443), ('com', 20357), ('é', 20278), ('no', 18914), ('para', 18841), ('na', 16996), ('por', 16435), ('como', 16334), ('as', 15278), ('dos', 13619), ('mais', 11441), ('se', 10813), ('foi', 10579), ('ao', 9536), ('das', 8556), ('não', 8219), ('ou', 8171), ('são', 7790), ('sua', 7141), ('à', 7052), ('entre', 6581), ('também', 5912), ('ser', 5602), ('seu', 5518), ('pelo', 4930), ('pela', 4834), ('mas', 3831), ('anos', 3749), ('maior', 3699), ('era', 3529), ('foram', 3429), ('nos', 3325), ('até', 3311), ('sobre', 3059), ('parte', 3055), ('tem', 3055), ('país', 3006), ('outros', 2995), ('seus', 2857), ('nas', 2839), ('sendo', 2822), ('estado', 2783), ('cidade', 2722), ('grande', 2697), ('durante', 2637), ('quando', 2597), ('ainda', 2589), ('ele', 2577), ('Brasil', 2536), ('forma', 2527), ('pode', 2456), ('mesmo', 2344), ('século', 2340), ('já', 2291), ('suas', 2268), ('onde', 2256), ('apenas', 2130), ('aos', 2120), ('muito', 2031), ('além', 2017), ('mundo', 2012), ('sistema', 2005), ('outras', 2005), ('população', 2004), ('região', 1943), ('dois', 1940), ('desde', 1911), ('está', 1889), ('após', 1887), ('São', 1877), ('ano', 1872), ('alguns', 1853), ('assim', 1843), ('segundo', 1815), ('cada', 1785), ('depois', 1782), ('todos', 1781), ('este', 1770), ('primeiro', 1742), ('governo', 1740), ('pelos', 1737), ('há', 1706), ('cerca', 1700), ('vez', 1675), ('através', 1670), ('exemplo', 1620), ('partir', 1609), ('primeira', 1603), ('então', 1597), ('período', 1581)]\n"
     ]
    }
   ],
   "source": [
    "counter = [(indices[idx],freq)\n",
    "           for idx, freq in indice_freq.items()]\n",
    "print(counter[:100])"
   ]
  }
 ],
 "metadata": {
  "kernelspec": {
   "display_name": "Python 3",
   "language": "python",
   "name": "python3"
  },
  "language_info": {
   "codemirror_mode": {
    "name": "ipython",
    "version": 3
   },
   "file_extension": ".py",
   "mimetype": "text/x-python",
   "name": "python",
   "nbconvert_exporter": "python",
   "pygments_lexer": "ipython3",
   "version": "3.6.1"
  }
 },
 "nbformat": 4,
 "nbformat_minor": 2
}
