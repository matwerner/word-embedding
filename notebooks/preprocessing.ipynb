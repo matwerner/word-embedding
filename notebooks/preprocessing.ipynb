{
 "cells": [
  {
   "cell_type": "markdown",
   "metadata": {},
   "source": [
    "Dataset:\n",
    "https://dumps.wikimedia.org/backup-index.html\n",
    "\n",
    "Before Running the parser below, please run WikipediaExtractor script:\n",
    "\n",
    "python2 WikipediaExtractor.py --json --bytes 10G <wikipedia-file-path>\n",
    "\n",
    "Download:\n",
    "https://github.com/attardi/wikiextractor\n",
    "\n",
    "Source:\n",
    "https://www.mediawiki.org/wiki/Alternative_parsers"
   ]
  },
  {
   "cell_type": "markdown",
   "metadata": {},
   "source": [
    "# Load Libraries"
   ]
  },
  {
   "cell_type": "code",
   "execution_count": 25,
   "metadata": {
    "collapsed": true
   },
   "outputs": [],
   "source": [
    "import json\n",
    "import re\n",
    "import string\n",
    "import unidecode"
   ]
  },
  {
   "cell_type": "markdown",
   "metadata": {},
   "source": [
    "# Declare variables"
   ]
  },
  {
   "cell_type": "code",
   "execution_count": 2,
   "metadata": {
    "collapsed": true
   },
   "outputs": [],
   "source": [
    "wikipedia_dataset = '../Datasets/ptwiki-20170820-pages-articles-parsed.json'"
   ]
  },
  {
   "cell_type": "markdown",
   "metadata": {},
   "source": [
    "# Load All Data"
   ]
  },
  {
   "cell_type": "code",
   "execution_count": 3,
   "metadata": {
    "collapsed": true
   },
   "outputs": [],
   "source": [
    "data_reader = open(wikipedia_dataset, 'r')"
   ]
  },
  {
   "cell_type": "markdown",
   "metadata": {},
   "source": [
    "# Parse all articles"
   ]
  },
  {
   "cell_type": "code",
   "execution_count": 23,
   "metadata": {},
   "outputs": [
    {
     "name": "stdout",
     "output_type": "stream",
     "text": [
      "CPU times: user 19.3 s, sys: 504 ms, total: 19.8 s\n",
      "Wall time: 19.8 s\n"
     ]
    }
   ],
   "source": [
    "# Beginning\n",
    "data_reader.seek(0)\n",
    "\n",
    "# Parse all text\n",
    "%time articles = [json.loads(line)['text'] for line in data_reader]"
   ]
  },
  {
   "cell_type": "markdown",
   "metadata": {},
   "source": [
    "# Convert text to token list"
   ]
  },
  {
   "cell_type": "code",
   "execution_count": 140,
   "metadata": {},
   "outputs": [],
   "source": [
    "def text_preprocessing(text):\n",
    "    numbers = '0123456789'\n",
    "    punctuation = re.sub('[!?\\.]', '', string.punctuation)\n",
    "    translator = str.maketrans('', '', punctuation + numbers) \n",
    "    \n",
    "    # Remove punctuation and numbers\n",
    "    preprocessed = text.translate(translator)\n",
    "    \n",
    "    # All words to Upper case\n",
    "    #preprocessed = preprocessed.upper()\n",
    "    \n",
    "    # Remove accentuation\n",
    "    #preprocessed = unidecode.unidecode(preprocessed)\n",
    "    \n",
    "    # Split text in sentences\n",
    "    sentences = re.split('[!?\\.\\\\n]', preprocessed)\n",
    "    \n",
    "    # Remove spaces from start and end of sentence\n",
    "    sentences = [sentence.strip()\n",
    "                 for sentence in sentences]\n",
    "    \n",
    "    # First caracter of each sentence to lower\n",
    "    sentences = [sentence[:1].lower() + sentence[1:]\n",
    "                 for sentence in sentences\n",
    "                 if sentence and ' '  in sentence]\n",
    "    \n",
    "    # Split sentence in tokens\n",
    "    sentences = [re.split(' +', sentence)\n",
    "                 for sentence in sentences]    \n",
    "    \n",
    "    #sentences = [re.split(' +', sentence.strip()[0].lower() + sentence.strip()[1:])\n",
    "    #             for sentence in sentences[1:]\n",
    "    #             if sentence and ' '  in sentence]\n",
    "    \n",
    "    return sentences"
   ]
  },
  {
   "cell_type": "code",
   "execution_count": null,
   "metadata": {},
   "outputs": [],
   "source": [
    "sentences = []\n",
    "for article in articles[:100]:\n",
    "    sentences += text_preprocessing(article)"
   ]
  },
  {
   "cell_type": "code",
   "execution_count": 144,
   "metadata": {},
   "outputs": [
    {
     "data": {
      "text/plain": [
       "2587"
      ]
     },
     "execution_count": 144,
     "metadata": {},
     "output_type": "execute_result"
    }
   ],
   "source": [
    "len(sentences)"
   ]
  },
  {
   "cell_type": "code",
   "execution_count": null,
   "metadata": {
    "collapsed": true
   },
   "outputs": [],
   "source": [
    "vocab = list(set(word for sentence in sentences for word in sentence))\n",
    "vocab_ids = {word:wid for wid, word in enumerate(vocab, 1)}\n",
    "vocab_ids"
   ]
  }
 ],
 "metadata": {
  "kernelspec": {
   "display_name": "Python 3",
   "language": "python",
   "name": "python3"
  },
  "language_info": {
   "codemirror_mode": {
    "name": "ipython",
    "version": 3
   },
   "file_extension": ".py",
   "mimetype": "text/x-python",
   "name": "python",
   "nbconvert_exporter": "python",
   "pygments_lexer": "ipython3",
   "version": "3.6.1"
  }
 },
 "nbformat": 4,
 "nbformat_minor": 2
}
